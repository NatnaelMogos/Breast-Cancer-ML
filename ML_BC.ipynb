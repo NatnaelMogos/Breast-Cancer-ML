{
 "cells": [
  {
   "cell_type": "code",
   "execution_count": 1,
   "id": "298d7b68",
   "metadata": {},
   "outputs": [],
   "source": [
    "import os\n",
    "import time\n",
    "import itertools\n",
    "\n",
    "import numpy as np\n",
    "import pandas as pd\n",
    "import matplotlib.pyplot as plt\n",
    "\n",
    "from sklearn.model_selection import train_test_split\n",
    "from sklearn.preprocessing import MinMaxScaler\n",
    "from sklearn.metrics import classification_report,confusion_matrix\n",
    "\n",
    "\n",
    "import tensorflow as tf\n",
    "from tensorflow import keras\n",
    "from tensorflow.keras.models import Sequential,Model\n",
    "from tensorflow.keras.layers import Activation, Dense, Input, InputLayer,Dropout\n",
    "from tensorflow.keras.optimizers import Adam,SGD\n"
   ]
  },
  {
   "cell_type": "markdown",
   "id": "6ac722c8",
   "metadata": {},
   "source": [
    "**Loading dataframe**"
   ]
  },
  {
   "cell_type": "code",
   "execution_count": 2,
   "id": "b83851e8",
   "metadata": {
    "scrolled": false
   },
   "outputs": [],
   "source": [
    "'Load dataframe from csv file'\n",
    "df = pd.read_csv('breast_cancer.csv',header=0)"
   ]
  },
  {
   "cell_type": "code",
   "execution_count": 3,
   "id": "d81eadd7",
   "metadata": {},
   "outputs": [
    {
     "data": {
      "text/plain": [
       "0      M\n",
       "1      M\n",
       "2      M\n",
       "3      M\n",
       "4      M\n",
       "      ..\n",
       "564    M\n",
       "565    M\n",
       "566    M\n",
       "567    M\n",
       "568    B\n",
       "Name: diagnosis, Length: 569, dtype: object"
      ]
     },
     "execution_count": 3,
     "metadata": {},
     "output_type": "execute_result"
    }
   ],
   "source": [
    "df['diagnosis']"
   ]
  },
  {
   "cell_type": "code",
   "execution_count": 4,
   "id": "34d0cd53",
   "metadata": {},
   "outputs": [
    {
     "name": "stdout",
     "output_type": "stream",
     "text": [
      "Malignant: 212 and Benign: 357\n"
     ]
    }
   ],
   "source": [
    "'Check for class imbalance'\n",
    "a = df['diagnosis']\n",
    "M = [1 for x in a if x=='M']\n",
    "B = [1 for x in a if x=='B']\n",
    "print('Malignant:',len(M), 'and Benign:',len(B))"
   ]
  },
  {
   "cell_type": "markdown",
   "id": "c7efbd4f",
   "metadata": {},
   "source": [
    "**Here we simply eliminate every feature (row) that has a missing/zero value**  \n",
    "**In other word we are only considering patients of whom we have full information**"
   ]
  },
  {
   "cell_type": "code",
   "execution_count": 5,
   "id": "1b9c26ed",
   "metadata": {
    "scrolled": false
   },
   "outputs": [
    {
     "name": "stdout",
     "output_type": "stream",
     "text": [
      "No NaNs No Zeros\n"
     ]
    }
   ],
   "source": [
    "'Drop columns where ALL values are NaN'\n",
    "df_post = df.dropna(axis=1,how='all')\n",
    "\n",
    "'Drop rows with zeros'\n",
    "df_post = df_post.drop(np.where(df == 0)[0])\n",
    "\n",
    "### These two steps seem to be not neccesary for this dataset\n",
    "#'Drop all columns where ALL values are 0'\n",
    "#'Drop rows with NaNs'\n",
    "\n",
    "\n",
    "'Check if zeros (isnull) or NaNs(isnull) are present in df'\n",
    "if df_post.isin([0]).sum().any() == False and df_post.isnull().sum().any() == False:\n",
    "    print('No NaNs No Zeros')\n",
    "elif df_post.isin([0]).sum(axis=1).any() == True:\n",
    "    print('Still Zeros')\n",
    "elif df_post.isnull().sum().any() == True:\n",
    "    print('Still NaNs')\n",
    "elif df_post.isin([0]).sum().any() == True and df_post.isnull().sum().any() == True:\n",
    "    print('Both zeros and NaNs present')\n"
   ]
  },
  {
   "cell_type": "markdown",
   "id": "174c0e49",
   "metadata": {},
   "source": [
    "**It is intersting to see to which categories the insufficient data belongs to**  \n",
    "**This might reveal problems in the information gathering process**"
   ]
  },
  {
   "cell_type": "code",
   "execution_count": 6,
   "id": "d42132d7",
   "metadata": {},
   "outputs": [
    {
     "name": "stdout",
     "output_type": "stream",
     "text": [
      "13  patients excluded, due to insufficient information of their cancer cell sample\n",
      "0 of them had malignant diagnosis and 13 had benign diagnosis\n"
     ]
    }
   ],
   "source": [
    "'Check for class imbalance'\n",
    "M = [1 for x in df['diagnosis'] if x=='M']\n",
    "B = [1 for x in df['diagnosis'] if x=='B']\n",
    "M_post = [1 for x in df_post['diagnosis'] if x=='M']\n",
    "B_post = [1 for x in df_post['diagnosis'] if x=='B']\n",
    "print(len(df) - len(df_post),' patients excluded, due to insufficient information of their cancer cell sample')\n",
    "print(len(M)-len(M_post),'of them had malignant diagnosis and',len(B)-len(B_post),'had benign diagnosis')\n"
   ]
  },
  {
   "cell_type": "markdown",
   "id": "4c54df90",
   "metadata": {},
   "source": [
    "**Convert Diagnosis column into categorical**"
   ]
  },
  {
   "cell_type": "code",
   "execution_count": 7,
   "id": "9f2ded06",
   "metadata": {
    "scrolled": true
   },
   "outputs": [],
   "source": [
    "df_post['diagnosis'] = pd.Categorical(df_post['diagnosis'])\n",
    "df_post['diagnosis'] = df_post.diagnosis.cat.codes\n"
   ]
  },
  {
   "cell_type": "markdown",
   "id": "9a0ff816",
   "metadata": {},
   "source": [
    "**Shuffle the data set and split to train/test**"
   ]
  },
  {
   "cell_type": "code",
   "execution_count": 8,
   "id": "da9bfd6d",
   "metadata": {},
   "outputs": [],
   "source": [
    "'Split and shuffle'\n",
    "df_train, df_test = train_test_split(df_post,\n",
    "                                    train_size=0.8,\n",
    "                                    shuffle=True,\n",
    "                                    random_state=42)\n",
    "\n",
    "'Drop IDs'\n",
    "id_train = df_train['id']\n",
    "id_test = df_test['id']\n",
    "df_train = df_train.drop(['id'],axis=1)\n",
    "df_test = df_test.drop(['id'],axis=1)\n",
    "\n",
    "'Drop diagnosis - Split targets from data set'\n",
    "diagnosis_train = df_train['diagnosis']\n",
    "diagnosis_test = df_test['diagnosis']\n",
    "df_train = df_train.drop(['diagnosis'],axis=1)\n",
    "df_test = df_test.drop(['diagnosis'],axis=1)"
   ]
  },
  {
   "cell_type": "code",
   "execution_count": 9,
   "id": "55d7eca8",
   "metadata": {},
   "outputs": [],
   "source": [
    "# 'Normalization'\n",
    "# scaler = MinMaxScaler(feature_range=(0,1))\n",
    "# scaled_df_train = scaler.fit_transform(df_train)\n",
    "# scaled_df_test = scaler.fit_transform(df_test)\n",
    "# scaled_df_train.shape"
   ]
  },
  {
   "cell_type": "code",
   "execution_count": 10,
   "id": "57342d87",
   "metadata": {},
   "outputs": [
    {
     "name": "stdout",
     "output_type": "stream",
     "text": [
      "Model: \"sequential\"\n",
      "_________________________________________________________________\n",
      "Layer (type)                 Output Shape              Param #   \n",
      "=================================================================\n",
      "dense (Dense)                (None, 32)                992       \n",
      "_________________________________________________________________\n",
      "dense_1 (Dense)              (None, 32)                1056      \n",
      "_________________________________________________________________\n",
      "dense_2 (Dense)              (None, 1)                 33        \n",
      "=================================================================\n",
      "Total params: 2,081\n",
      "Trainable params: 2,081\n",
      "Non-trainable params: 0\n",
      "_________________________________________________________________\n"
     ]
    }
   ],
   "source": [
    "'Define model'\n",
    "dim1,dim2 = df_train.shape\n",
    "model = Sequential([\n",
    "    InputLayer(input_shape=(dim2,)),\n",
    "    Dense(units=32,activation='relu'),\n",
    "    Dense(units=32,activation='relu'),\n",
    "    Dense(units=1, activation='sigmoid')\n",
    "])\n",
    "model_summary = model.summary()"
   ]
  },
  {
   "cell_type": "code",
   "execution_count": 11,
   "id": "81f59a3c",
   "metadata": {},
   "outputs": [],
   "source": [
    "'Compile model'\n",
    "model.compile(optimizer = Adam(learning_rate = 3.5e-4),\n",
    "              loss = 'BinaryCrossentropy')"
   ]
  },
  {
   "cell_type": "code",
   "execution_count": null,
   "id": "84553743",
   "metadata": {},
   "outputs": [],
   "source": []
  },
  {
   "cell_type": "code",
   "execution_count": 12,
   "id": "6a6b85b0",
   "metadata": {
    "scrolled": true
   },
   "outputs": [
    {
     "name": "stdout",
     "output_type": "stream",
     "text": [
      "Epoch 1/100\n",
      "13/13 [==============================] - 0s 22ms/step - loss: 32.6396 - accuracy: 0.6441 - val_loss: 22.7205 - val_accuracy: 0.6000\n",
      "Epoch 2/100\n",
      "13/13 [==============================] - 0s 2ms/step - loss: 13.5594 - accuracy: 0.6441 - val_loss: 3.1161 - val_accuracy: 0.2667\n",
      "Epoch 3/100\n",
      "13/13 [==============================] - 0s 2ms/step - loss: 3.4303 - accuracy: 0.3008 - val_loss: 2.5944 - val_accuracy: 0.4000\n",
      "Epoch 4/100\n",
      "13/13 [==============================] - 0s 2ms/step - loss: 1.6727 - accuracy: 0.5414 - val_loss: 1.2593 - val_accuracy: 0.6444\n",
      "Epoch 5/100\n",
      "13/13 [==============================] - 0s 2ms/step - loss: 0.8813 - accuracy: 0.6466 - val_loss: 0.8156 - val_accuracy: 0.6444\n",
      "Epoch 6/100\n",
      "13/13 [==============================] - 0s 2ms/step - loss: 0.7709 - accuracy: 0.7594 - val_loss: 0.7791 - val_accuracy: 0.7111\n",
      "Epoch 7/100\n",
      "13/13 [==============================] - 0s 2ms/step - loss: 0.6793 - accuracy: 0.7243 - val_loss: 0.7543 - val_accuracy: 0.7333\n",
      "Epoch 8/100\n",
      "13/13 [==============================] - 0s 2ms/step - loss: 0.6371 - accuracy: 0.8246 - val_loss: 0.6851 - val_accuracy: 0.7556\n",
      "Epoch 9/100\n",
      "13/13 [==============================] - 0s 2ms/step - loss: 0.6276 - accuracy: 0.7469 - val_loss: 0.7664 - val_accuracy: 0.7778\n",
      "Epoch 10/100\n",
      "13/13 [==============================] - 0s 2ms/step - loss: 0.5831 - accuracy: 0.8396 - val_loss: 0.6354 - val_accuracy: 0.7556\n",
      "Epoch 11/100\n",
      "13/13 [==============================] - 0s 2ms/step - loss: 0.5376 - accuracy: 0.8296 - val_loss: 0.6036 - val_accuracy: 0.8222\n",
      "Epoch 12/100\n",
      "13/13 [==============================] - 0s 2ms/step - loss: 0.4826 - accuracy: 0.8546 - val_loss: 0.4943 - val_accuracy: 0.7778\n",
      "Epoch 13/100\n",
      "13/13 [==============================] - 0s 2ms/step - loss: 0.4310 - accuracy: 0.8722 - val_loss: 0.4749 - val_accuracy: 0.8222\n",
      "Epoch 14/100\n",
      "13/13 [==============================] - 0s 2ms/step - loss: 0.4040 - accuracy: 0.8872 - val_loss: 0.5130 - val_accuracy: 0.8444\n",
      "Epoch 15/100\n",
      "13/13 [==============================] - 0s 2ms/step - loss: 0.3900 - accuracy: 0.8822 - val_loss: 0.4129 - val_accuracy: 0.8222\n",
      "Epoch 16/100\n",
      "13/13 [==============================] - 0s 2ms/step - loss: 0.3639 - accuracy: 0.8997 - val_loss: 0.3950 - val_accuracy: 0.8222\n",
      "Epoch 17/100\n",
      "13/13 [==============================] - 0s 2ms/step - loss: 0.3370 - accuracy: 0.8722 - val_loss: 0.5319 - val_accuracy: 0.8222\n",
      "Epoch 18/100\n",
      "13/13 [==============================] - 0s 2ms/step - loss: 0.3420 - accuracy: 0.8797 - val_loss: 0.3306 - val_accuracy: 0.8667\n",
      "Epoch 19/100\n",
      "13/13 [==============================] - 0s 2ms/step - loss: 0.2761 - accuracy: 0.9098 - val_loss: 0.3256 - val_accuracy: 0.8667\n",
      "Epoch 20/100\n",
      "13/13 [==============================] - 0s 2ms/step - loss: 0.2531 - accuracy: 0.9073 - val_loss: 0.4033 - val_accuracy: 0.8444\n",
      "Epoch 21/100\n",
      "13/13 [==============================] - 0s 2ms/step - loss: 0.2365 - accuracy: 0.9173 - val_loss: 0.3196 - val_accuracy: 0.8667\n",
      "Epoch 22/100\n",
      "13/13 [==============================] - 0s 2ms/step - loss: 0.2390 - accuracy: 0.9173 - val_loss: 0.3116 - val_accuracy: 0.8667\n",
      "Epoch 23/100\n",
      "13/13 [==============================] - 0s 2ms/step - loss: 0.2253 - accuracy: 0.9198 - val_loss: 0.3715 - val_accuracy: 0.8444\n",
      "Epoch 24/100\n",
      "13/13 [==============================] - 0s 2ms/step - loss: 0.2294 - accuracy: 0.9173 - val_loss: 0.3610 - val_accuracy: 0.8444\n",
      "Epoch 25/100\n",
      "13/13 [==============================] - 0s 2ms/step - loss: 0.2251 - accuracy: 0.9223 - val_loss: 0.3004 - val_accuracy: 0.8667\n",
      "Epoch 26/100\n",
      "13/13 [==============================] - 0s 2ms/step - loss: 0.2229 - accuracy: 0.9173 - val_loss: 0.3221 - val_accuracy: 0.8889\n",
      "Epoch 27/100\n",
      "13/13 [==============================] - 0s 2ms/step - loss: 0.2193 - accuracy: 0.9223 - val_loss: 0.3008 - val_accuracy: 0.8889\n",
      "Epoch 28/100\n",
      "13/13 [==============================] - 0s 2ms/step - loss: 0.2225 - accuracy: 0.9173 - val_loss: 0.2899 - val_accuracy: 0.8889\n",
      "Epoch 29/100\n",
      "13/13 [==============================] - 0s 2ms/step - loss: 0.2287 - accuracy: 0.9198 - val_loss: 0.2865 - val_accuracy: 0.9111\n",
      "Epoch 30/100\n",
      "13/13 [==============================] - 0s 2ms/step - loss: 0.2125 - accuracy: 0.9173 - val_loss: 0.3075 - val_accuracy: 0.8889\n",
      "Epoch 31/100\n",
      "13/13 [==============================] - 0s 2ms/step - loss: 0.2059 - accuracy: 0.9248 - val_loss: 0.3075 - val_accuracy: 0.8889\n",
      "Epoch 32/100\n",
      "13/13 [==============================] - 0s 2ms/step - loss: 0.2068 - accuracy: 0.9223 - val_loss: 0.3079 - val_accuracy: 0.8889\n",
      "Epoch 33/100\n",
      "13/13 [==============================] - 0s 2ms/step - loss: 0.2045 - accuracy: 0.9273 - val_loss: 0.2820 - val_accuracy: 0.8889\n",
      "Epoch 34/100\n",
      "13/13 [==============================] - 0s 2ms/step - loss: 0.2044 - accuracy: 0.9198 - val_loss: 0.3327 - val_accuracy: 0.8444\n",
      "Epoch 35/100\n",
      "13/13 [==============================] - 0s 2ms/step - loss: 0.2243 - accuracy: 0.9098 - val_loss: 0.2974 - val_accuracy: 0.8889\n",
      "Epoch 36/100\n",
      "13/13 [==============================] - 0s 2ms/step - loss: 0.2053 - accuracy: 0.9248 - val_loss: 0.2712 - val_accuracy: 0.9111\n",
      "Epoch 37/100\n",
      "13/13 [==============================] - 0s 2ms/step - loss: 0.2061 - accuracy: 0.9198 - val_loss: 0.2900 - val_accuracy: 0.8889\n",
      "Epoch 38/100\n",
      "13/13 [==============================] - 0s 2ms/step - loss: 0.1975 - accuracy: 0.9223 - val_loss: 0.2919 - val_accuracy: 0.8889\n",
      "Epoch 39/100\n",
      "13/13 [==============================] - 0s 2ms/step - loss: 0.1956 - accuracy: 0.9223 - val_loss: 0.3118 - val_accuracy: 0.8667\n",
      "Epoch 40/100\n",
      "13/13 [==============================] - 0s 2ms/step - loss: 0.1991 - accuracy: 0.9198 - val_loss: 0.2796 - val_accuracy: 0.8889\n",
      "Epoch 41/100\n",
      "13/13 [==============================] - 0s 2ms/step - loss: 0.1923 - accuracy: 0.9273 - val_loss: 0.4466 - val_accuracy: 0.8444\n",
      "Epoch 42/100\n",
      "13/13 [==============================] - 0s 2ms/step - loss: 0.2234 - accuracy: 0.9048 - val_loss: 0.3547 - val_accuracy: 0.8444\n",
      "Epoch 43/100\n",
      "13/13 [==============================] - 0s 2ms/step - loss: 0.2221 - accuracy: 0.9223 - val_loss: 0.2492 - val_accuracy: 0.9111\n",
      "Epoch 44/100\n",
      "13/13 [==============================] - 0s 2ms/step - loss: 0.2065 - accuracy: 0.9273 - val_loss: 0.2557 - val_accuracy: 0.9111\n",
      "Epoch 45/100\n",
      "13/13 [==============================] - 0s 2ms/step - loss: 0.2032 - accuracy: 0.9248 - val_loss: 0.3061 - val_accuracy: 0.8667\n",
      "Epoch 46/100\n",
      "13/13 [==============================] - 0s 3ms/step - loss: 0.1896 - accuracy: 0.9173 - val_loss: 0.3885 - val_accuracy: 0.8444\n",
      "Epoch 47/100\n",
      "13/13 [==============================] - 0s 2ms/step - loss: 0.2114 - accuracy: 0.9148 - val_loss: 0.2545 - val_accuracy: 0.9111\n",
      "Epoch 48/100\n",
      "13/13 [==============================] - 0s 2ms/step - loss: 0.2039 - accuracy: 0.9223 - val_loss: 0.2477 - val_accuracy: 0.9111\n",
      "Epoch 49/100\n",
      "13/13 [==============================] - 0s 2ms/step - loss: 0.1968 - accuracy: 0.9273 - val_loss: 0.2925 - val_accuracy: 0.8667\n",
      "Epoch 50/100\n",
      "13/13 [==============================] - 0s 2ms/step - loss: 0.1899 - accuracy: 0.9248 - val_loss: 0.3644 - val_accuracy: 0.8444\n",
      "Epoch 51/100\n",
      "13/13 [==============================] - 0s 2ms/step - loss: 0.2210 - accuracy: 0.9123 - val_loss: 0.3574 - val_accuracy: 0.8444\n",
      "Epoch 52/100\n",
      "13/13 [==============================] - 0s 3ms/step - loss: 0.2025 - accuracy: 0.9223 - val_loss: 0.3040 - val_accuracy: 0.8667\n",
      "Epoch 53/100\n",
      "13/13 [==============================] - 0s 2ms/step - loss: 0.2122 - accuracy: 0.9273 - val_loss: 0.2668 - val_accuracy: 0.8889\n",
      "Epoch 54/100\n",
      "13/13 [==============================] - 0s 2ms/step - loss: 0.1921 - accuracy: 0.9173 - val_loss: 0.2358 - val_accuracy: 0.9333\n",
      "Epoch 55/100\n",
      "13/13 [==============================] - 0s 2ms/step - loss: 0.2097 - accuracy: 0.9198 - val_loss: 0.2387 - val_accuracy: 0.9111\n",
      "Epoch 56/100\n",
      "13/13 [==============================] - 0s 2ms/step - loss: 0.1833 - accuracy: 0.9373 - val_loss: 0.4258 - val_accuracy: 0.8444\n",
      "Epoch 57/100\n",
      "13/13 [==============================] - 0s 2ms/step - loss: 0.1973 - accuracy: 0.9248 - val_loss: 0.3501 - val_accuracy: 0.8444\n",
      "Epoch 58/100\n",
      "13/13 [==============================] - 0s 2ms/step - loss: 0.1973 - accuracy: 0.9223 - val_loss: 0.3340 - val_accuracy: 0.8444\n"
     ]
    },
    {
     "name": "stdout",
     "output_type": "stream",
     "text": [
      "Epoch 59/100\n",
      "13/13 [==============================] - 0s 2ms/step - loss: 0.2212 - accuracy: 0.9123 - val_loss: 0.3265 - val_accuracy: 0.8444\n",
      "Epoch 60/100\n",
      "13/13 [==============================] - 0s 2ms/step - loss: 0.1881 - accuracy: 0.9248 - val_loss: 0.2405 - val_accuracy: 0.9111\n",
      "Epoch 61/100\n",
      "13/13 [==============================] - 0s 2ms/step - loss: 0.1847 - accuracy: 0.9273 - val_loss: 0.2815 - val_accuracy: 0.8667\n",
      "Epoch 62/100\n",
      "13/13 [==============================] - 0s 2ms/step - loss: 0.1935 - accuracy: 0.9298 - val_loss: 0.2777 - val_accuracy: 0.8889\n",
      "Epoch 63/100\n",
      "13/13 [==============================] - 0s 2ms/step - loss: 0.1966 - accuracy: 0.9148 - val_loss: 0.2889 - val_accuracy: 0.8667\n",
      "Epoch 64/100\n",
      "13/13 [==============================] - 0s 2ms/step - loss: 0.2076 - accuracy: 0.9173 - val_loss: 0.3845 - val_accuracy: 0.8444\n",
      "Epoch 65/100\n",
      "13/13 [==============================] - 0s 2ms/step - loss: 0.2049 - accuracy: 0.9223 - val_loss: 0.4047 - val_accuracy: 0.8444\n",
      "Epoch 66/100\n",
      "13/13 [==============================] - 0s 2ms/step - loss: 0.1894 - accuracy: 0.9223 - val_loss: 0.2777 - val_accuracy: 0.8667\n",
      "Epoch 67/100\n",
      "13/13 [==============================] - 0s 2ms/step - loss: 0.2185 - accuracy: 0.9123 - val_loss: 0.2302 - val_accuracy: 0.9333\n",
      "Epoch 68/100\n",
      "13/13 [==============================] - 0s 2ms/step - loss: 0.2261 - accuracy: 0.9198 - val_loss: 0.2638 - val_accuracy: 0.8889\n",
      "Epoch 69/100\n",
      "13/13 [==============================] - 0s 2ms/step - loss: 0.1885 - accuracy: 0.9298 - val_loss: 0.2299 - val_accuracy: 0.9333\n",
      "Epoch 70/100\n",
      "13/13 [==============================] - 0s 2ms/step - loss: 0.1896 - accuracy: 0.9223 - val_loss: 0.2398 - val_accuracy: 0.8889\n",
      "Epoch 71/100\n",
      "13/13 [==============================] - 0s 2ms/step - loss: 0.1826 - accuracy: 0.9298 - val_loss: 0.2325 - val_accuracy: 0.9111\n",
      "Epoch 72/100\n",
      "13/13 [==============================] - 0s 2ms/step - loss: 0.1876 - accuracy: 0.9298 - val_loss: 0.2529 - val_accuracy: 0.8889\n",
      "Epoch 73/100\n",
      "13/13 [==============================] - 0s 2ms/step - loss: 0.1779 - accuracy: 0.9248 - val_loss: 0.2947 - val_accuracy: 0.8667\n",
      "Epoch 74/100\n",
      "13/13 [==============================] - 0s 2ms/step - loss: 0.1830 - accuracy: 0.9273 - val_loss: 0.3396 - val_accuracy: 0.8444\n",
      "Epoch 75/100\n",
      "13/13 [==============================] - 0s 2ms/step - loss: 0.1894 - accuracy: 0.9223 - val_loss: 0.2933 - val_accuracy: 0.8667\n",
      "Epoch 76/100\n",
      "13/13 [==============================] - 0s 2ms/step - loss: 0.2358 - accuracy: 0.9073 - val_loss: 0.3787 - val_accuracy: 0.8444\n",
      "Epoch 77/100\n",
      "13/13 [==============================] - 0s 2ms/step - loss: 0.1839 - accuracy: 0.9273 - val_loss: 0.4016 - val_accuracy: 0.8444\n",
      "Epoch 78/100\n",
      "13/13 [==============================] - 0s 2ms/step - loss: 0.1858 - accuracy: 0.9348 - val_loss: 0.2304 - val_accuracy: 0.8889\n",
      "Epoch 79/100\n",
      "13/13 [==============================] - 0s 2ms/step - loss: 0.1766 - accuracy: 0.9273 - val_loss: 0.2549 - val_accuracy: 0.8889\n",
      "Epoch 80/100\n",
      "13/13 [==============================] - 0s 2ms/step - loss: 0.1841 - accuracy: 0.9273 - val_loss: 0.2124 - val_accuracy: 0.9333\n",
      "Epoch 81/100\n",
      "13/13 [==============================] - 0s 2ms/step - loss: 0.1897 - accuracy: 0.9223 - val_loss: 0.3706 - val_accuracy: 0.8444\n",
      "Epoch 82/100\n",
      "13/13 [==============================] - 0s 2ms/step - loss: 0.1964 - accuracy: 0.9198 - val_loss: 0.4448 - val_accuracy: 0.8444\n",
      "Epoch 83/100\n",
      "13/13 [==============================] - 0s 2ms/step - loss: 0.2039 - accuracy: 0.9298 - val_loss: 0.4059 - val_accuracy: 0.8444\n",
      "Epoch 84/100\n",
      "13/13 [==============================] - 0s 2ms/step - loss: 0.2411 - accuracy: 0.9173 - val_loss: 0.2460 - val_accuracy: 0.8889\n",
      "Epoch 85/100\n",
      "13/13 [==============================] - 0s 2ms/step - loss: 0.1790 - accuracy: 0.9298 - val_loss: 0.2267 - val_accuracy: 0.9333\n",
      "Epoch 86/100\n",
      "13/13 [==============================] - 0s 2ms/step - loss: 0.1803 - accuracy: 0.9223 - val_loss: 0.2670 - val_accuracy: 0.8889\n",
      "Epoch 87/100\n",
      "13/13 [==============================] - 0s 2ms/step - loss: 0.1771 - accuracy: 0.9323 - val_loss: 0.3438 - val_accuracy: 0.8444\n",
      "Epoch 88/100\n",
      "13/13 [==============================] - 0s 2ms/step - loss: 0.1755 - accuracy: 0.9273 - val_loss: 0.2407 - val_accuracy: 0.8889\n",
      "Epoch 89/100\n",
      "13/13 [==============================] - 0s 2ms/step - loss: 0.1772 - accuracy: 0.9248 - val_loss: 0.2746 - val_accuracy: 0.8889\n",
      "Epoch 90/100\n",
      "13/13 [==============================] - 0s 2ms/step - loss: 0.1889 - accuracy: 0.9298 - val_loss: 0.2417 - val_accuracy: 0.8889\n",
      "Epoch 91/100\n",
      "13/13 [==============================] - 0s 2ms/step - loss: 0.1728 - accuracy: 0.9248 - val_loss: 0.3540 - val_accuracy: 0.8444\n",
      "Epoch 92/100\n",
      "13/13 [==============================] - 0s 2ms/step - loss: 0.1944 - accuracy: 0.9273 - val_loss: 0.5215 - val_accuracy: 0.8222\n",
      "Epoch 93/100\n",
      "13/13 [==============================] - 0s 2ms/step - loss: 0.2878 - accuracy: 0.8897 - val_loss: 0.4512 - val_accuracy: 0.8444\n",
      "Epoch 94/100\n",
      "13/13 [==============================] - 0s 2ms/step - loss: 0.2952 - accuracy: 0.8922 - val_loss: 0.2385 - val_accuracy: 0.8889\n",
      "Epoch 95/100\n",
      "13/13 [==============================] - 0s 2ms/step - loss: 0.1887 - accuracy: 0.9198 - val_loss: 0.2711 - val_accuracy: 0.8889\n",
      "Epoch 96/100\n",
      "13/13 [==============================] - 0s 2ms/step - loss: 0.1694 - accuracy: 0.9323 - val_loss: 0.2132 - val_accuracy: 0.9556\n",
      "Epoch 97/100\n",
      "13/13 [==============================] - 0s 2ms/step - loss: 0.1889 - accuracy: 0.9223 - val_loss: 0.2140 - val_accuracy: 0.9333\n",
      "Epoch 98/100\n",
      "13/13 [==============================] - 0s 2ms/step - loss: 0.2173 - accuracy: 0.9148 - val_loss: 0.3450 - val_accuracy: 0.8444\n",
      "Epoch 99/100\n",
      "13/13 [==============================] - 0s 2ms/step - loss: 0.2105 - accuracy: 0.9198 - val_loss: 0.3195 - val_accuracy: 0.8444\n",
      "Epoch 100/100\n",
      "13/13 [==============================] - 0s 2ms/step - loss: 0.1770 - accuracy: 0.9173 - val_loss: 0.3384 - val_accuracy: 0.8444\n"
     ]
    },
    {
     "data": {
      "image/png": "[encoded data removed]",
      "text/plain": [
       "<Figure size 432x288 with 1 Axes>"
      ]
     },
     "metadata": {
      "needs_background": "light"
     },
     "output_type": "display_data"
    }
   ],
   "source": [
    "model.compile(optimizer = Adam(learning_rate = 3.5e-4),\n",
    "              loss = 'BinaryCrossentropy',\n",
    "              metrics = ['accuracy']\n",
    ")\n",
    "\n",
    "history = model.fit(df_train,diagnosis_train,\n",
    "                   batch_size=32,\n",
    "                   validation_split=0.1,\n",
    "                   epochs=100,\n",
    "                   shuffle=True,\n",
    "                   verbose=1)\n",
    "\n",
    "history_dict=history.history\n",
    "#accuracy=history_dict['accuracy']\n",
    "loss_values=history_dict['loss']\n",
    "val_loss_values=history_dict['val_loss']\n",
    "\n",
    "plt.plot(val_loss_values,label='val_loss_values')\n",
    "#plt.plot(accuracy,label='accuracy')\n",
    "#plt.xlabel('Epochs')\n",
    "#plt.ylabel('Accuracy [a.u.]')\n",
    "plt.legend()\n",
    "plt.grid(alpha=0.1)\n",
    "\n",
    "plt.plot(loss_values,label='loss_values')\n",
    "#plt.xlabel('Epochs')\n",
    "#plt.ylabel('Accuracy [a.u.]')\n",
    "plt.legend()\n",
    "plt.grid(alpha=0.1)\n",
    "\n",
    "\n"
   ]
  },
  {
   "cell_type": "code",
   "execution_count": 13,
   "id": "90bd5106",
   "metadata": {},
   "outputs": [],
   "source": [
    "def plot_confusion_matrix(cm, classes,\n",
    "                        normalize=False,\n",
    "                        title='Confusion matrix',\n",
    "                        cmap=plt.cm.Blues):\n",
    "    \n",
    "    plt.imshow(cm, interpolation='nearest',cmap=cmap)\n",
    "    plt.title(title)\n",
    "    plt.colorbar()\n",
    "    tick_marks = np.arange(len(classes))\n",
    "    plt.xticks(tick_marks,classes, rotation=45)\n",
    "    plt.yticks(tick_marks,classes)\n",
    "    \n",
    "    if normalize:\n",
    "        cm = cm.astype('float') / cm.sum(axis=1)[:, np.newaxis]\n",
    "        print(\"Normalized confusion matrix\")\n",
    "    else:\n",
    "        print(\"Confusion matrix, without normalization\")\n",
    "    \n",
    "    print(cm)\n",
    "    \n",
    "    thresh = cm.max() / 2.\n",
    "    \n",
    "    for i,j in itertools.product(range(cm.shape[0]), range(cm.shape[1])):\n",
    "        plt.text(j, i, cm[i, j],\n",
    "                horizontalalignment='center',\n",
    "                color='white' if cm[i, j] > thresh else 'black')\n",
    "    \n",
    "    plt.tight_layout()\n",
    "    plt.ylabel(\"True label\")\n",
    "    plt.xlabel(\"Predicted label\")"
   ]
  },
  {
   "cell_type": "code",
   "execution_count": 14,
   "id": "887060a7",
   "metadata": {
    "scrolled": true
   },
   "outputs": [
    {
     "name": "stdout",
     "output_type": "stream",
     "text": [
      "Confusion matrix, without normalization\n",
      "[[58  2]\n",
      " [ 7 45]]\n"
     ]
    },
    {
     "data": {
      "image/png": "[encoded data removed]",
      "text/plain": [
       "<Figure size 432x288 with 2 Axes>"
      ]
     },
     "metadata": {
      "needs_background": "light"
     },
     "output_type": "display_data"
    }
   ],
   "source": [
    "p = (model.predict(df_test) > 0.5).astype(\"int32\")\n",
    "cm = confusion_matrix(y_true=diagnosis_test,y_pred=p)\n",
    "\n",
    "cm_plot_labels = ['Benign','Malignant']\n",
    "plot_confusion_matrix(cm=cm, classes=cm_plot_labels, title='Confusion Matrix')"
   ]
  },
  {
   "cell_type": "code",
   "execution_count": 15,
   "id": "fbfe4465",
   "metadata": {},
   "outputs": [
    {
     "name": "stdout",
     "output_type": "stream",
     "text": [
      "              precision    recall  f1-score   support\n",
      "\n",
      "           0       0.89      0.97      0.93        60\n",
      "           1       0.96      0.87      0.91        52\n",
      "\n",
      "    accuracy                           0.92       112\n",
      "   macro avg       0.92      0.92      0.92       112\n",
      "weighted avg       0.92      0.92      0.92       112\n",
      "\n"
     ]
    }
   ],
   "source": [
    "print(classification_report(diagnosis_test, p))"
   ]
  }
 ],
 "metadata": {
  "kernelspec": {
   "display_name": "Python 3",
   "language": "python",
   "name": "python3"
  },
  "language_info": {
   "codemirror_mode": {
    "name": "ipython",
    "version": 3
   },
   "file_extension": ".py",
   "mimetype": "text/x-python",
   "name": "python",
   "nbconvert_exporter": "python",
   "pygments_lexer": "ipython3",
   "version": "3.8.12"
  }
 },
 "nbformat": 4,
 "nbformat_minor": 5
}
