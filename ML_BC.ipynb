{
 "cells": [
  {
   "cell_type": "code",
   "execution_count": 1,
   "id": "298d7b68",
   "metadata": {},
   "outputs": [],
   "source": [
    "import os\n",
    "import time\n",
    "import itertools\n",
    "\n",
    "import numpy as np\n",
    "import pandas as pd\n",
    "import matplotlib.pyplot as plt\n",
    "\n",
    "from sklearn.model_selection import train_test_split\n",
    "from sklearn.preprocessing import MinMaxScaler\n",
    "from sklearn.metrics import classification_report,confusion_matrix\n",
    "\n",
    "\n",
    "import tensorflow as tf\n",
    "from tensorflow import keras\n",
    "from tensorflow.keras.models import Sequential,Model\n",
    "from tensorflow.keras.layers import Activation, Dense, Input, InputLayer,Dropout\n",
    "from tensorflow.keras.optimizers import Adam,SGD\n"
   ]
  },
  {
   "cell_type": "markdown",
   "id": "6ac722c8",
   "metadata": {},
   "source": [
    "**Loading dataframe**"
   ]
  },
  {
   "cell_type": "code",
   "execution_count": 2,
   "id": "b83851e8",
   "metadata": {
    "scrolled": false
   },
   "outputs": [],
   "source": [
    "'Load dataframe from csv file'\n",
    "df = pd.read_csv('breast_cancer.csv',header=0)"
   ]
  },
  {
   "cell_type": "code",
   "execution_count": 3,
   "id": "34d0cd53",
   "metadata": {},
   "outputs": [
    {
     "name": "stdout",
     "output_type": "stream",
     "text": [
      "Malignant: 212 and Benign: 357\n"
     ]
    }
   ],
   "source": [
    "'Check for class imbalance'\n",
    "a = df['diagnosis']\n",
    "M = [1 for x in a if x=='M']\n",
    "B = [1 for x in a if x=='B']\n",
    "print('Malignant:',len(M), 'and Benign:',len(B))"
   ]
  },
  {
   "cell_type": "markdown",
   "id": "c7efbd4f",
   "metadata": {},
   "source": [
    "**Here we simply eliminate every feature (row) that has a missing/zero value**  \n",
    "**In other word we are only considering patients of whom we have full information**"
   ]
  },
  {
   "cell_type": "code",
   "execution_count": 4,
   "id": "1b9c26ed",
   "metadata": {
    "scrolled": false
   },
   "outputs": [
    {
     "name": "stdout",
     "output_type": "stream",
     "text": [
      "No NaNs No Zeros\n"
     ]
    }
   ],
   "source": [
    "'Drop columns where ALL values are NaN'\n",
    "df_post = df.dropna(axis=1,how='all')\n",
    "\n",
    "'Drop rows with zeros'\n",
    "df_post = df_post.drop(np.where(df == 0)[0])\n",
    "\n",
    "### These two steps seem to be not neccesary for this dataset\n",
    "#'Drop all columns where ALL values are 0'\n",
    "#'Drop rows with NaNs'\n",
    "\n",
    "\n",
    "'Check if zeros (isnull) or NaNs(isnull) are present in df'\n",
    "if df_post.isin([0]).sum().any() == False and df_post.isnull().sum().any() == False:\n",
    "    print('No NaNs No Zeros')\n",
    "elif df_post.isin([0]).sum(axis=1).any() == True:\n",
    "    print('Still Zeros')\n",
    "elif df_post.isnull().sum().any() == True:\n",
    "    print('Still NaNs')\n",
    "elif df_post.isin([0]).sum().any() == True and df_post.isnull().sum().any() == True:\n",
    "    print('Both zeros and NaNs present')\n"
   ]
  },
  {
   "cell_type": "markdown",
   "id": "174c0e49",
   "metadata": {},
   "source": [
    "**It is intersting to see to which categories the insufficient data belongs to**  \n",
    "**This might reveal problems in the information gathering process**"
   ]
  },
  {
   "cell_type": "code",
   "execution_count": 5,
   "id": "d42132d7",
   "metadata": {},
   "outputs": [
    {
     "name": "stdout",
     "output_type": "stream",
     "text": [
      "13  patients excluded, due to insufficient information of their cancer cell sample\n",
      "0 of them had malignant diagnosis and 13 had benign diagnosis\n"
     ]
    }
   ],
   "source": [
    "'Check for class imbalance'\n",
    "M = [1 for x in df['diagnosis'] if x=='M']\n",
    "B = [1 for x in df['diagnosis'] if x=='B']\n",
    "M_post = [1 for x in df_post['diagnosis'] if x=='M']\n",
    "B_post = [1 for x in df_post['diagnosis'] if x=='B']\n",
    "print(len(df) - len(df_post),' patients excluded, due to insufficient information of their cancer cell sample')\n",
    "print(len(M)-len(M_post),'of them had malignant diagnosis and',len(B)-len(B_post),'had benign diagnosis')\n"
   ]
  },
  {
   "cell_type": "markdown",
   "id": "4c54df90",
   "metadata": {},
   "source": [
    "**Convert Diagnosis column into categorical**"
   ]
  },
  {
   "cell_type": "code",
   "execution_count": 6,
   "id": "9f2ded06",
   "metadata": {
    "scrolled": true
   },
   "outputs": [],
   "source": [
    "df_post['diagnosis'] = pd.Categorical(df_post['diagnosis'])\n",
    "df_post['diagnosis'] = df_post.diagnosis.cat.codes\n"
   ]
  },
  {
   "cell_type": "markdown",
   "id": "9a0ff816",
   "metadata": {},
   "source": [
    "**Shuffle the data set and split to train/test**"
   ]
  },
  {
   "cell_type": "code",
   "execution_count": 7,
   "id": "da9bfd6d",
   "metadata": {},
   "outputs": [],
   "source": [
    "'Split and shuffle'\n",
    "df_train, df_test = train_test_split(df_post,\n",
    "                                    train_size=0.8,\n",
    "                                    shuffle=True,\n",
    "                                    random_state=42)\n",
    "\n",
    "'Drop IDs'\n",
    "id_train = df_train['id']\n",
    "id_test = df_test['id']\n",
    "df_train = df_train.drop(['id'],axis=1)\n",
    "df_test = df_test.drop(['id'],axis=1)\n",
    "\n",
    "'Drop diagnosis - Split targets from data set'\n",
    "diagnosis_train = df_train['diagnosis']\n",
    "diagnosis_test = df_test['diagnosis']\n",
    "df_train = df_train.drop(['diagnosis'],axis=1)\n",
    "df_test = df_test.drop(['diagnosis'],axis=1)"
   ]
  },
  {
   "cell_type": "code",
   "execution_count": 8,
   "id": "55d7eca8",
   "metadata": {},
   "outputs": [],
   "source": [
    "# 'Normalization'\n",
    "# scaler = MinMaxScaler(feature_range=(0,1))\n",
    "# scaled_df_train = scaler.fit_transform(df_train)\n",
    "# scaled_df_test = scaler.fit_transform(df_test)\n",
    "# scaled_df_train.shape"
   ]
  },
  {
   "cell_type": "code",
   "execution_count": 9,
   "id": "57342d87",
   "metadata": {},
   "outputs": [
    {
     "name": "stdout",
     "output_type": "stream",
     "text": [
      "Model: \"sequential\"\n",
      "_________________________________________________________________\n",
      "Layer (type)                 Output Shape              Param #   \n",
      "=================================================================\n",
      "dense (Dense)                (None, 32)                992       \n",
      "_________________________________________________________________\n",
      "dense_1 (Dense)              (None, 32)                1056      \n",
      "_________________________________________________________________\n",
      "dense_2 (Dense)              (None, 1)                 33        \n",
      "=================================================================\n",
      "Total params: 2,081\n",
      "Trainable params: 2,081\n",
      "Non-trainable params: 0\n",
      "_________________________________________________________________\n"
     ]
    }
   ],
   "source": [
    "'Define model'\n",
    "dim1,dim2 = df_train.shape\n",
    "model = Sequential([\n",
    "    InputLayer(input_shape=(dim2,)),\n",
    "    Dense(units=32,activation='relu'),\n",
    "    Dense(units=32,activation='relu'),\n",
    "    Dense(units=1, activation='sigmoid')\n",
    "])\n",
    "model_summary = model.summary()"
   ]
  },
  {
   "cell_type": "code",
   "execution_count": 10,
   "id": "81f59a3c",
   "metadata": {},
   "outputs": [],
   "source": [
    "'Compile model'\n",
    "model.compile(optimizer = Adam(learning_rate = 3.5e-4),\n",
    "              loss = 'BinaryCrossentropy')"
   ]
  },
  {
   "cell_type": "code",
   "execution_count": 11,
   "id": "6a6b85b0",
   "metadata": {
    "scrolled": true
   },
   "outputs": [
    {
     "name": "stdout",
     "output_type": "stream",
     "text": [
      "Epoch 1/50\n",
      "13/13 [==============================] - 0s 12ms/step - loss: 44.6104 - accuracy: 0.6441 - val_loss: 29.9093 - val_accuracy: 0.6000\n",
      "Epoch 2/50\n",
      "13/13 [==============================] - 0s 2ms/step - loss: 13.5965 - accuracy: 0.5589 - val_loss: 7.7736 - val_accuracy: 0.3111\n",
      "Epoch 3/50\n",
      "13/13 [==============================] - 0s 2ms/step - loss: 8.5769 - accuracy: 0.3133 - val_loss: 5.5108 - val_accuracy: 0.3111\n",
      "Epoch 4/50\n",
      "13/13 [==============================] - 0s 2ms/step - loss: 3.6781 - accuracy: 0.4887 - val_loss: 2.4635 - val_accuracy: 0.5778\n",
      "Epoch 5/50\n",
      "13/13 [==============================] - 0s 2ms/step - loss: 1.8016 - accuracy: 0.5238 - val_loss: 1.5394 - val_accuracy: 0.6889\n",
      "Epoch 6/50\n",
      "13/13 [==============================] - 0s 2ms/step - loss: 0.9435 - accuracy: 0.7594 - val_loss: 0.7485 - val_accuracy: 0.7778\n",
      "Epoch 7/50\n",
      "13/13 [==============================] - 0s 2ms/step - loss: 0.6715 - accuracy: 0.8296 - val_loss: 0.5001 - val_accuracy: 0.8000\n",
      "Epoch 8/50\n",
      "13/13 [==============================] - 0s 2ms/step - loss: 0.5238 - accuracy: 0.8672 - val_loss: 0.3683 - val_accuracy: 0.8222\n",
      "Epoch 9/50\n",
      "13/13 [==============================] - 0s 2ms/step - loss: 0.4440 - accuracy: 0.8747 - val_loss: 0.3438 - val_accuracy: 0.8000\n",
      "Epoch 10/50\n",
      "13/13 [==============================] - 0s 2ms/step - loss: 0.3546 - accuracy: 0.8972 - val_loss: 0.3777 - val_accuracy: 0.8667\n",
      "Epoch 11/50\n",
      "13/13 [==============================] - 0s 2ms/step - loss: 0.3081 - accuracy: 0.9073 - val_loss: 0.3151 - val_accuracy: 0.8444\n",
      "Epoch 12/50\n",
      "13/13 [==============================] - 0s 2ms/step - loss: 0.2603 - accuracy: 0.9198 - val_loss: 0.3404 - val_accuracy: 0.8444\n",
      "Epoch 13/50\n",
      "13/13 [==============================] - 0s 2ms/step - loss: 0.2361 - accuracy: 0.9273 - val_loss: 0.3283 - val_accuracy: 0.8444\n",
      "Epoch 14/50\n",
      "13/13 [==============================] - 0s 1ms/step - loss: 0.2088 - accuracy: 0.9373 - val_loss: 0.2752 - val_accuracy: 0.8667\n",
      "Epoch 15/50\n",
      "13/13 [==============================] - 0s 2ms/step - loss: 0.2241 - accuracy: 0.9223 - val_loss: 0.2670 - val_accuracy: 0.8889\n",
      "Epoch 16/50\n",
      "13/13 [==============================] - 0s 2ms/step - loss: 0.2162 - accuracy: 0.9323 - val_loss: 0.2739 - val_accuracy: 0.8667\n",
      "Epoch 17/50\n",
      "13/13 [==============================] - 0s 2ms/step - loss: 0.1881 - accuracy: 0.9373 - val_loss: 0.2928 - val_accuracy: 0.8667\n",
      "Epoch 18/50\n",
      "13/13 [==============================] - 0s 2ms/step - loss: 0.1836 - accuracy: 0.9398 - val_loss: 0.2757 - val_accuracy: 0.8889\n",
      "Epoch 19/50\n",
      "13/13 [==============================] - 0s 2ms/step - loss: 0.1794 - accuracy: 0.9398 - val_loss: 0.2374 - val_accuracy: 0.9111\n",
      "Epoch 20/50\n",
      "13/13 [==============================] - 0s 2ms/step - loss: 0.1798 - accuracy: 0.9424 - val_loss: 0.3842 - val_accuracy: 0.8667\n",
      "Epoch 21/50\n",
      "13/13 [==============================] - 0s 2ms/step - loss: 0.1746 - accuracy: 0.9449 - val_loss: 0.2380 - val_accuracy: 0.9111\n",
      "Epoch 22/50\n",
      "13/13 [==============================] - 0s 1ms/step - loss: 0.1722 - accuracy: 0.9449 - val_loss: 0.3087 - val_accuracy: 0.8667\n",
      "Epoch 23/50\n",
      "13/13 [==============================] - 0s 2ms/step - loss: 0.1746 - accuracy: 0.9348 - val_loss: 0.2171 - val_accuracy: 0.8889\n",
      "Epoch 24/50\n",
      "13/13 [==============================] - 0s 2ms/step - loss: 0.1734 - accuracy: 0.9348 - val_loss: 0.2840 - val_accuracy: 0.8667\n",
      "Epoch 25/50\n",
      "13/13 [==============================] - 0s 2ms/step - loss: 0.1687 - accuracy: 0.9398 - val_loss: 0.2248 - val_accuracy: 0.9111\n",
      "Epoch 26/50\n",
      "13/13 [==============================] - 0s 2ms/step - loss: 0.1655 - accuracy: 0.9474 - val_loss: 0.4007 - val_accuracy: 0.8667\n",
      "Epoch 27/50\n",
      "13/13 [==============================] - 0s 2ms/step - loss: 0.1899 - accuracy: 0.9223 - val_loss: 0.3217 - val_accuracy: 0.8667\n",
      "Epoch 28/50\n",
      "13/13 [==============================] - 0s 2ms/step - loss: 0.1860 - accuracy: 0.9273 - val_loss: 0.2150 - val_accuracy: 0.9111\n",
      "Epoch 29/50\n",
      "13/13 [==============================] - 0s 2ms/step - loss: 0.1640 - accuracy: 0.9474 - val_loss: 0.2549 - val_accuracy: 0.8889\n",
      "Epoch 30/50\n",
      "13/13 [==============================] - 0s 2ms/step - loss: 0.1673 - accuracy: 0.9398 - val_loss: 0.2853 - val_accuracy: 0.8667\n",
      "Epoch 31/50\n",
      "13/13 [==============================] - 0s 1ms/step - loss: 0.1630 - accuracy: 0.9424 - val_loss: 0.2578 - val_accuracy: 0.8889\n",
      "Epoch 32/50\n",
      "13/13 [==============================] - 0s 2ms/step - loss: 0.1672 - accuracy: 0.9474 - val_loss: 0.2473 - val_accuracy: 0.8889\n",
      "Epoch 33/50\n",
      "13/13 [==============================] - 0s 2ms/step - loss: 0.1622 - accuracy: 0.9424 - val_loss: 0.2534 - val_accuracy: 0.8889\n",
      "Epoch 34/50\n",
      "13/13 [==============================] - 0s 2ms/step - loss: 0.1656 - accuracy: 0.9474 - val_loss: 0.2772 - val_accuracy: 0.8667\n",
      "Epoch 35/50\n",
      "13/13 [==============================] - 0s 2ms/step - loss: 0.1615 - accuracy: 0.9424 - val_loss: 0.2113 - val_accuracy: 0.9333\n",
      "Epoch 36/50\n",
      "13/13 [==============================] - 0s 2ms/step - loss: 0.1608 - accuracy: 0.9449 - val_loss: 0.2330 - val_accuracy: 0.8889\n",
      "Epoch 37/50\n",
      "13/13 [==============================] - 0s 2ms/step - loss: 0.1776 - accuracy: 0.9424 - val_loss: 0.1973 - val_accuracy: 0.9111\n",
      "Epoch 38/50\n",
      "13/13 [==============================] - 0s 2ms/step - loss: 0.1718 - accuracy: 0.9449 - val_loss: 0.1962 - val_accuracy: 0.9111\n",
      "Epoch 39/50\n",
      "13/13 [==============================] - 0s 1ms/step - loss: 0.1578 - accuracy: 0.9499 - val_loss: 0.3450 - val_accuracy: 0.8667\n",
      "Epoch 40/50\n",
      "13/13 [==============================] - 0s 2ms/step - loss: 0.1961 - accuracy: 0.9323 - val_loss: 0.3764 - val_accuracy: 0.8667\n",
      "Epoch 41/50\n",
      "13/13 [==============================] - 0s 2ms/step - loss: 0.1725 - accuracy: 0.9373 - val_loss: 0.2359 - val_accuracy: 0.8889\n",
      "Epoch 42/50\n",
      "13/13 [==============================] - 0s 2ms/step - loss: 0.1775 - accuracy: 0.9273 - val_loss: 0.3974 - val_accuracy: 0.8444\n",
      "Epoch 43/50\n",
      "13/13 [==============================] - 0s 2ms/step - loss: 0.1690 - accuracy: 0.9373 - val_loss: 0.2343 - val_accuracy: 0.8889\n",
      "Epoch 44/50\n",
      "13/13 [==============================] - 0s 2ms/step - loss: 0.1554 - accuracy: 0.9449 - val_loss: 0.2125 - val_accuracy: 0.9333\n",
      "Epoch 45/50\n",
      "13/13 [==============================] - 0s 1ms/step - loss: 0.1597 - accuracy: 0.9398 - val_loss: 0.2213 - val_accuracy: 0.9333\n",
      "Epoch 46/50\n",
      "13/13 [==============================] - 0s 2ms/step - loss: 0.1610 - accuracy: 0.9474 - val_loss: 0.2132 - val_accuracy: 0.9333\n",
      "Epoch 47/50\n",
      "13/13 [==============================] - 0s 2ms/step - loss: 0.1590 - accuracy: 0.9499 - val_loss: 0.1884 - val_accuracy: 0.8889\n",
      "Epoch 48/50\n",
      "13/13 [==============================] - 0s 2ms/step - loss: 0.1754 - accuracy: 0.9323 - val_loss: 0.2043 - val_accuracy: 0.9333\n",
      "Epoch 49/50\n",
      "13/13 [==============================] - 0s 2ms/step - loss: 0.1680 - accuracy: 0.9499 - val_loss: 0.2006 - val_accuracy: 0.9111\n",
      "Epoch 50/50\n",
      "13/13 [==============================] - 0s 2ms/step - loss: 0.1815 - accuracy: 0.9298 - val_loss: 0.2153 - val_accuracy: 0.9333\n"
     ]
    },
    {
     "data": {
      "image/png": "[encoded data removed]",
      "text/plain": [
       "<Figure size 432x288 with 1 Axes>"
      ]
     },
     "metadata": {
      "needs_background": "light"
     },
     "output_type": "display_data"
    }
   ],
   "source": [
    "model.compile(optimizer = Adam(learning_rate = 3.5e-4),\n",
    "              loss = 'BinaryCrossentropy',\n",
    "              metrics = ['accuracy']\n",
    ")\n",
    "\n",
    "history = model.fit(df_train,diagnosis_train,\n",
    "                   batch_size=32,\n",
    "                   validation_split=0.1,\n",
    "                   epochs=50,\n",
    "                   shuffle=True,\n",
    "                   verbose=1)\n",
    "\n",
    "history_dict=history.history\n",
    "#accuracy=history_dict['accuracy']\n",
    "loss_values=history_dict['loss']\n",
    "val_loss_values=history_dict['val_loss']\n",
    "\n",
    "plt.plot(val_loss_values,label='val_loss_values')\n",
    "#plt.plot(accuracy,label='accuracy')\n",
    "#plt.xlabel('Epochs')\n",
    "#plt.ylabel('Accuracy [a.u.]')\n",
    "plt.legend()\n",
    "plt.grid(alpha=0.1)\n",
    "\n",
    "plt.plot(loss_values,label='loss_values')\n",
    "#plt.xlabel('Epochs')\n",
    "#plt.ylabel('Accuracy [a.u.]')\n",
    "plt.legend()\n",
    "plt.grid(alpha=0.1)\n",
    "\n",
    "\n"
   ]
  },
  {
   "cell_type": "code",
   "execution_count": 12,
   "id": "90bd5106",
   "metadata": {},
   "outputs": [],
   "source": [
    "def plot_confusion_matrix(cm, classes,\n",
    "                        normalize=False,\n",
    "                        title='Confusion matrix',\n",
    "                        cmap=plt.cm.Blues):\n",
    "    \n",
    "    plt.imshow(cm, interpolation='nearest',cmap=cmap)\n",
    "    plt.title(title)\n",
    "    plt.colorbar()\n",
    "    tick_marks = np.arange(len(classes))\n",
    "    plt.xticks(tick_marks,classes, rotation=45)\n",
    "    plt.yticks(tick_marks,classes)\n",
    "    \n",
    "    if normalize:\n",
    "        cm = cm.astype('float') / cm.sum(axis=1)[:, np.newaxis]\n",
    "        print(\"Normalized confusion matrix\")\n",
    "    else:\n",
    "        print(\"Confusion matrix, without normalization\")\n",
    "    \n",
    "    print(cm)\n",
    "    \n",
    "    thresh = cm.max() / 2.\n",
    "    \n",
    "    for i,j in itertools.product(range(cm.shape[0]), range(cm.shape[1])):\n",
    "        plt.text(j, i, cm[i, j],\n",
    "                horizontalalignment='center',\n",
    "                color='white' if cm[i, j] > thresh else 'black')\n",
    "    \n",
    "    plt.tight_layout()\n",
    "    plt.ylabel(\"True label\")\n",
    "    plt.xlabel(\"Predicted label\")"
   ]
  },
  {
   "cell_type": "code",
   "execution_count": 13,
   "id": "887060a7",
   "metadata": {
    "scrolled": true
   },
   "outputs": [
    {
     "name": "stdout",
     "output_type": "stream",
     "text": [
      "Confusion matrix, without normalization\n",
      "[[56  4]\n",
      " [ 6 46]]\n"
     ]
    },
    {
     "data": {
      "image/png": "[encoded data removed]",
      "text/plain": [
       "<Figure size 432x288 with 2 Axes>"
      ]
     },
     "metadata": {
      "needs_background": "light"
     },
     "output_type": "display_data"
    }
   ],
   "source": [
    "p = (model.predict(df_test) > 0.5).astype(\"int32\")\n",
    "cm = confusion_matrix(y_true=diagnosis_test,y_pred=p)\n",
    "\n",
    "cm_plot_labels = ['Benign','Malignant']\n",
    "plot_confusion_matrix(cm=cm, classes=cm_plot_labels, title='Confusion Matrix')"
   ]
  },
  {
   "cell_type": "code",
   "execution_count": 14,
   "id": "fbfe4465",
   "metadata": {},
   "outputs": [
    {
     "name": "stdout",
     "output_type": "stream",
     "text": [
      "              precision    recall  f1-score   support\n",
      "\n",
      "           0       0.90      0.93      0.92        60\n",
      "           1       0.92      0.88      0.90        52\n",
      "\n",
      "    accuracy                           0.91       112\n",
      "   macro avg       0.91      0.91      0.91       112\n",
      "weighted avg       0.91      0.91      0.91       112\n",
      "\n"
     ]
    }
   ],
   "source": [
    "print(classification_report(diagnosis_test, p))"
   ]
  }
 ],
 "metadata": {
  "kernelspec": {
   "display_name": "Python 3",
   "language": "python",
   "name": "python3"
  },
  "language_info": {
   "codemirror_mode": {
    "name": "ipython",
    "version": 3
   },
   "file_extension": ".py",
   "mimetype": "text/x-python",
   "name": "python",
   "nbconvert_exporter": "python",
   "pygments_lexer": "ipython3",
   "version": "3.8.12"
  }
 },
 "nbformat": 4,
 "nbformat_minor": 5
}
